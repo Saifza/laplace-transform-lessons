{
 "cells": [
  {
   "cell_type": "markdown",
   "id": "d3fe34dc-2c1a-4709-a9a2-3b90500696e0",
   "metadata": {},
   "source": [
    "# Introduction to Laplace Transform\n",
    "\n",
    "In this notebook, we introduce the Laplace Transform — a powerful mathematical tool widely used in electrical engineering for analyzing linear time-invariant systems.\n",
    "\n",
    "We will cover:\n",
    "- The definition of the Laplace Transform\n",
    "- Properties of the Laplace Transform\n",
    "- Computing Laplace Transforms using Python (`sympy`)\n",
    "- Simple examples involving basic functions (step, exponential, sine)\n"
   ]
  },
  {
   "cell_type": "code",
   "execution_count": 1,
   "id": "a2ca515b-881d-4525-b0bc-0080903240d0",
   "metadata": {},
   "outputs": [],
   "source": [
    "import sympy as sp\n",
    "sp.init_printing(use_latex='mathjax')\n",
    "t, s = sp.symbols('t s')\n"
   ]
  },
  {
   "cell_type": "markdown",
   "id": "b45542f7-17d9-440e-9019-98f5ba8452e3",
   "metadata": {},
   "source": [
    "## What is the Laplace Transform?\n",
    "\n",
    "#The Laplace Transform of a time-domain function  f(t)  is defined as:\n",
    "\n",
    "\\\\[\n",
    "\\mathcal{L}\\{f(t)\\} = F(s) = \\int_0^{\\infty} f(t) e^{-st} dt\n",
    "\\\\]\n",
    "\n",
    "This transforms a time-domain function into the **s-domain**, where algebraic techniques can be used to analyze systems more easily.\n"
   ]
  },
  {
   "cell_type": "code",
   "execution_count": 2,
   "id": "c93d2c23-3131-4d95-9824-752d416aafb3",
   "metadata": {},
   "outputs": [
    {
     "data": {
      "text/latex": [
       "$\\displaystyle \\frac{1}{s}$"
      ],
      "text/plain": [
       "1\n",
       "─\n",
       "s"
      ]
     },
     "execution_count": 2,
     "metadata": {},
     "output_type": "execute_result"
    }
   ],
   "source": [
    "f = 1  # step function\n",
    "F = sp.laplace_transform(f, t, s, noconds=True)\n",
    "F\n"
   ]
  },
  {
   "cell_type": "markdown",
   "id": "a0006cd0-aa86-4b59-854d-821ca5d854a8",
   "metadata": {},
   "source": [
    "The Laplace Transform of a unit step function is:\n",
    "\n",
    "\\\\[\n",
    "\\mathcal{L}\\{1\\} = \\frac{1}{s}, \\quad \\text{for } \\text{Re}(s) > 0\n",
    "\\\\]\n"
   ]
  },
  {
   "cell_type": "code",
   "execution_count": 3,
   "id": "b792793d-64ef-44c2-adff-a4fade509d13",
   "metadata": {},
   "outputs": [
    {
     "data": {
      "text/latex": [
       "$\\displaystyle \\left( \\frac{1}{s^{2}}, \\  \\frac{1}{s + 2}, \\  \\frac{3}{s^{2} + 9}\\right)$"
      ],
      "text/plain": [
       "⎛1     1      3   ⎞\n",
       "⎜──, ─────, ──────⎟\n",
       "⎜ 2  s + 2   2    ⎟\n",
       "⎝s          s  + 9⎠"
      ]
     },
     "execution_count": 3,
     "metadata": {},
     "output_type": "execute_result"
    }
   ],
   "source": [
    "f1 = t\n",
    "f2 = sp.exp(-2*t)\n",
    "f3 = sp.sin(3*t)\n",
    "\n",
    "F1 = sp.laplace_transform(f1, t, s, noconds=True)\n",
    "F2 = sp.laplace_transform(f2, t, s, noconds=True)\n",
    "F3 = sp.laplace_transform(f3, t, s, noconds=True)\n",
    "\n",
    "F1, F2, F3\n"
   ]
  },
  {
   "cell_type": "code",
   "execution_count": 4,
   "id": "2dc6b884-574b-4778-b404-3421feb5bcf7",
   "metadata": {},
   "outputs": [
    {
     "data": {
      "text/latex": [
       "$\\displaystyle \\frac{\\sin{\\left(2 t \\right)} \\theta\\left(t\\right)}{2}$"
      ],
      "text/plain": [
       "sin(2⋅t)⋅θ(t)\n",
       "─────────────\n",
       "      2      "
      ]
     },
     "execution_count": 4,
     "metadata": {},
     "output_type": "execute_result"
    }
   ],
   "source": [
    "# Inverse Laplace Transform\n",
    "\n",
    "Fs = 1 / (s**2 + 4)\n",
    "f_time = sp.inverse_laplace_transform(Fs, s, t)\n",
    "f_time\n"
   ]
  },
  {
   "cell_type": "markdown",
   "id": "e1095bdc-b98d-467f-892c-bdb727952b6d",
   "metadata": {},
   "source": [
    "This is the inverse Laplace Transform of \\\\( \\frac{1}{s^2 + 4} \\\\), which gives us:\n",
    "\n",
    "\\\\[\n",
    "\\mathcal{L}^{-1}\\left\\{\\frac{1}{s^2 + 4}\\right\\} = \\sin(2t)\n",
    "\\\\]\n"
   ]
  },
  {
   "cell_type": "markdown",
   "id": "7a5c31f6-81bc-45bc-9909-f18578e9f55e",
   "metadata": {},
   "source": [
    "## Summary\n",
    "\n",
    "In this notebook, we introduced the Laplace Transform and demonstrated how to:\n",
    "\n",
    "- Compute Laplace transforms of simple functions using Python\n",
    "- Understand the relationship between time-domain and s-domain\n",
    "- Use inverse Laplace transforms to return to the time domain\n",
    "\n",
    "In the next notebook, we will apply Laplace transforms to solve linear differential equations.\n"
   ]
  },
  {
   "cell_type": "code",
   "execution_count": null,
   "id": "5ba303e6-96a6-4764-9aa1-73bec782a7c0",
   "metadata": {},
   "outputs": [],
   "source": []
  }
 ],
 "metadata": {
  "kernelspec": {
   "display_name": "Python 3 (ipykernel)",
   "language": "python",
   "name": "python3"
  },
  "language_info": {
   "codemirror_mode": {
    "name": "ipython",
    "version": 3
   },
   "file_extension": ".py",
   "mimetype": "text/x-python",
   "name": "python",
   "nbconvert_exporter": "python",
   "pygments_lexer": "ipython3",
   "version": "3.12.1"
  }
 },
 "nbformat": 4,
 "nbformat_minor": 5
}
