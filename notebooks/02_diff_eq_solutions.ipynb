{
 "cells": [
  {
   "cell_type": "markdown",
   "id": "459cff38-6ab4-4e36-85ee-94896a81b8b9",
   "metadata": {},
   "source": [
    "# Solving Differential Equations Using Laplace Transform\n",
    "\n",
    "In this notebook, we apply Laplace Transforms to solve ordinary differential equations (ODEs), a common task in electrical engineering and system dynamics.\n",
    "\n",
    "We will:\n",
    "- Take Laplace Transforms of ODEs\n",
    "- Solve algebraically in the s-domain\n",
    "- Use inverse Laplace to find time-domain solutions\n",
    "- Compare with numerical solutions (optional)\n",
    "\n",
    "Example:  \n",
    "\\\\[\n",
    "\\frac{d^2y}{dt^2} + 3\\frac{dy}{dt} + 2y = u(t), \\quad y(0) = 0, \\quad y'(0) = 0\n",
    "\\\\]\n"
   ]
  },
  {
   "cell_type": "code",
   "execution_count": 1,
   "id": "e4540c60-2ea1-41e3-9d66-e9826bb902a9",
   "metadata": {},
   "outputs": [],
   "source": [
    "import sympy as sp\n",
    "sp.init_printing(use_latex='mathjax')\n",
    "\n",
    "t, s = sp.symbols('t s')\n",
    "Y = sp.Function('Y')(s)\n",
    "y = sp.Function('y')(t)\n"
   ]
  },
  {
   "cell_type": "markdown",
   "id": "15e7e48f-80e1-4882-ab55-9d65ce8e15ec",
   "metadata": {},
   "source": [
    "## Example ODE\n",
    "\n",
    "\\\\[\n",
    "\\frac{d^2y}{dt^2} + 3\\frac{dy}{dt} + 2y = 1, \\quad y(0) = 0, \\quad y'(0) = 0\n",
    "\\\\]\n",
    "\n",
    "We apply the Laplace Transform to both sides.\n"
   ]
  },
  {
   "cell_type": "code",
   "execution_count": 2,
   "id": "f0d4eb01-8eee-4ec5-86ca-a95292fcb089",
   "metadata": {},
   "outputs": [
    {
     "data": {
      "text/latex": [
       "$\\displaystyle \\frac{1}{s \\left(s^{2} + 3 s + 2\\right)}$"
      ],
      "text/plain": [
       "       1        \n",
       "────────────────\n",
       "  ⎛ 2          ⎞\n",
       "s⋅⎝s  + 3⋅s + 2⎠"
      ]
     },
     "execution_count": 2,
     "metadata": {},
     "output_type": "execute_result"
    }
   ],
   "source": [
    "Y = sp.Function('Y')(s)\n",
    "Y_expr = s**2 * Y + 3 * s * Y + 2 * Y\n",
    "eq = sp.Eq(Y_expr, 1/s)\n",
    "Y_sol = sp.solve(eq, Y)[0]\n",
    "Y_sol\n"
   ]
  },
  {
   "cell_type": "code",
   "execution_count": 3,
   "id": "6435730c-850a-49dc-a6df-92e08c2a6bc7",
   "metadata": {},
   "outputs": [
    {
     "data": {
      "text/latex": [
       "$\\displaystyle \\frac{\\theta\\left(t\\right)}{2} - e^{- t} \\theta\\left(t\\right) + \\frac{e^{- 2 t} \\theta\\left(t\\right)}{2}$"
      ],
      "text/plain": [
       "                   -2⋅t     \n",
       "θ(t)    -t        ℯ    ⋅θ(t)\n",
       "──── - ℯ  ⋅θ(t) + ──────────\n",
       " 2                    2     "
      ]
     },
     "execution_count": 3,
     "metadata": {},
     "output_type": "execute_result"
    }
   ],
   "source": [
    "#Inverse Laplace Transform to get time domain solution\n",
    "\n",
    "y_t = sp.inverse_laplace_transform(Y_sol, s, t)\n",
    "y_t\n"
   ]
  },
  {
   "cell_type": "markdown",
   "id": "a1ba93d3-f523-4c1c-b103-c7264252335d",
   "metadata": {},
   "source": [
    "This is the time-domain solution to the ODE using Laplace Transforms.\n"
   ]
  },
  {
   "cell_type": "markdown",
   "id": "66a2ba34-83c5-4aa8-96ac-80618219eb1a",
   "metadata": {},
   "source": [
    "We can compare our symbolic solution with a numerical integration using `scipy`.\n"
   ]
  },
  {
   "cell_type": "markdown",
   "id": "cca3e077-da1b-47f0-9a7f-7f5c5a5eb05f",
   "metadata": {},
   "source": [
    "## Summary\n",
    "\n",
    "We demonstrated how Laplace Transforms can be used to:\n",
    "- Convert differential equations into algebraic equations in the s-domain\n",
    "- Solve for the Laplace image Y(s)\n",
    "- Use inverse Laplace to return to the time-domain function y(t)\n",
    "\n",
    "This technique is particularly useful in control systems and electrical circuits where initial conditions are known.\n"
   ]
  },
  {
   "cell_type": "code",
   "execution_count": null,
   "id": "e046970c-7d97-4317-8aca-c23a3cb50967",
   "metadata": {},
   "outputs": [],
   "source": []
  }
 ],
 "metadata": {
  "kernelspec": {
   "display_name": "Python 3 (ipykernel)",
   "language": "python",
   "name": "python3"
  },
  "language_info": {
   "codemirror_mode": {
    "name": "ipython",
    "version": 3
   },
   "file_extension": ".py",
   "mimetype": "text/x-python",
   "name": "python",
   "nbconvert_exporter": "python",
   "pygments_lexer": "ipython3",
   "version": "3.12.1"
  }
 },
 "nbformat": 4,
 "nbformat_minor": 5
}
